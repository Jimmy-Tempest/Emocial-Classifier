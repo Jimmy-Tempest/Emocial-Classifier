{
 "cells": [
  {
   "cell_type": "code",
   "execution_count": 69,
   "metadata": {},
   "outputs": [],
   "source": [
    "import pandas as pd\n",
    "import numpy as np\n",
    "import tensorflow as tf"
   ]
  },
  {
   "cell_type": "code",
   "execution_count": 70,
   "metadata": {},
   "outputs": [],
   "source": [
    "data = pd.read_csv('../data/tweets_with_labels.csv')\n",
    "tweets, label = data[\"tweets\"], data[\"labels\"]"
   ]
  },
  {
   "cell_type": "code",
   "execution_count": 71,
   "metadata": {},
   "outputs": [],
   "source": [
    "dataset = tf.data.Dataset.from_tensor_slices((tweets, label))"
   ]
  },
  {
   "cell_type": "code",
   "execution_count": 72,
   "metadata": {},
   "outputs": [],
   "source": [
    "max_tokens = tweets.str.split().str.len().max() + 1"
   ]
  },
  {
   "cell_type": "code",
   "execution_count": 73,
   "metadata": {},
   "outputs": [],
   "source": [
    "tweets_vectorizer = tf.keras.layers.TextVectorization(\n",
    "        max_tokens=max_tokens)\n",
    "\n",
    "tweets_vectorizer.adapt(tweets)\n",
    "\n",
    "model = tf.keras.Sequential([\n",
    "    tweets_vectorizer,\n",
    "    tf.keras.layers.Embedding(max_tokens, 64, mask_zero=True),\n",
    "    tf.keras.layers.GlobalAveragePooling1D(),\n",
    "    tf.keras.layers.Dense(32, activation='relu'),\n",
    "    tf.keras.layers.Dense(1, activation='sigmoid')\n",
    "])\n",
    "\n",
    "model.compile(optimizer='adam', loss='binary_crossentropy', metrics=['accuracy'])\n"
   ]
  },
  {
   "cell_type": "code",
   "execution_count": 74,
   "metadata": {},
   "outputs": [],
   "source": [
    "shuffle_dataset = dataset.shuffle(10_000)\n",
    "\n",
    "train_dataset = shuffle_dataset.take(7_200)\n",
    "validation_dataset = shuffle_dataset.skip(7200).take(800)\n",
    "test_dataset = shuffle_dataset.skip(8000).take(2000)"
   ]
  },
  {
   "cell_type": "code",
   "execution_count": 75,
   "metadata": {},
   "outputs": [],
   "source": [
    "cached_train = train_dataset.shuffle(1024).batch(1024).cache()\n",
    "cached_validation = validation_dataset.batch(1024).cache()\n",
    "cached_test = test_dataset.batch(512).cache()"
   ]
  },
  {
   "cell_type": "code",
   "execution_count": 76,
   "metadata": {},
   "outputs": [
    {
     "name": "stdout",
     "output_type": "stream",
     "text": [
      "Epoch 1/30\n",
      "WARNING:tensorflow:Model was constructed with shape (None, None) for input KerasTensor(type_spec=TensorSpec(shape=(None, None), dtype=tf.string, name='text_vectorization_4_input'), name='text_vectorization_4_input', description=\"created by layer 'text_vectorization_4_input'\"), but it was called on an input with incompatible shape (None,).\n",
      "WARNING:tensorflow:Model was constructed with shape (None, None) for input KerasTensor(type_spec=TensorSpec(shape=(None, None), dtype=tf.string, name='text_vectorization_4_input'), name='text_vectorization_4_input', description=\"created by layer 'text_vectorization_4_input'\"), but it was called on an input with incompatible shape (None,).\n",
      "7/8 [=========================>....] - ETA: 0s - loss: 0.6729 - accuracy: 0.7761WARNING:tensorflow:Model was constructed with shape (None, None) for input KerasTensor(type_spec=TensorSpec(shape=(None, None), dtype=tf.string, name='text_vectorization_4_input'), name='text_vectorization_4_input', description=\"created by layer 'text_vectorization_4_input'\"), but it was called on an input with incompatible shape (None,).\n",
      "8/8 [==============================] - 1s 39ms/step - loss: 0.6729 - accuracy: 0.7756 - val_loss: 0.6542 - val_accuracy: 0.7513\n",
      "Epoch 2/30\n",
      "8/8 [==============================] - 0s 24ms/step - loss: 0.6354 - accuracy: 0.7760 - val_loss: 0.6189 - val_accuracy: 0.7513\n",
      "Epoch 3/30\n",
      "8/8 [==============================] - 0s 23ms/step - loss: 0.5958 - accuracy: 0.7760 - val_loss: 0.5841 - val_accuracy: 0.7513\n",
      "Epoch 4/30\n",
      "8/8 [==============================] - 0s 21ms/step - loss: 0.5580 - accuracy: 0.7760 - val_loss: 0.5548 - val_accuracy: 0.7513\n",
      "Epoch 5/30\n",
      "8/8 [==============================] - 0s 22ms/step - loss: 0.5271 - accuracy: 0.7760 - val_loss: 0.5348 - val_accuracy: 0.7513\n",
      "Epoch 6/30\n",
      "8/8 [==============================] - 0s 23ms/step - loss: 0.5064 - accuracy: 0.7760 - val_loss: 0.5238 - val_accuracy: 0.7525\n",
      "Epoch 7/30\n",
      "8/8 [==============================] - 0s 23ms/step - loss: 0.4943 - accuracy: 0.7761 - val_loss: 0.5164 - val_accuracy: 0.7525\n",
      "Epoch 8/30\n",
      "8/8 [==============================] - 0s 22ms/step - loss: 0.4858 - accuracy: 0.7761 - val_loss: 0.5079 - val_accuracy: 0.7525\n",
      "Epoch 9/30\n",
      "8/8 [==============================] - 0s 23ms/step - loss: 0.4771 - accuracy: 0.7761 - val_loss: 0.4977 - val_accuracy: 0.7525\n",
      "Epoch 10/30\n",
      "8/8 [==============================] - 0s 22ms/step - loss: 0.4678 - accuracy: 0.7776 - val_loss: 0.4865 - val_accuracy: 0.7563\n",
      "Epoch 11/30\n",
      "8/8 [==============================] - 0s 22ms/step - loss: 0.4576 - accuracy: 0.7792 - val_loss: 0.4746 - val_accuracy: 0.7563\n",
      "Epoch 12/30\n",
      "8/8 [==============================] - 0s 23ms/step - loss: 0.4463 - accuracy: 0.7810 - val_loss: 0.4617 - val_accuracy: 0.7613\n",
      "Epoch 13/30\n",
      "8/8 [==============================] - 0s 22ms/step - loss: 0.4339 - accuracy: 0.7850 - val_loss: 0.4483 - val_accuracy: 0.7663\n",
      "Epoch 14/30\n",
      "8/8 [==============================] - 0s 23ms/step - loss: 0.4205 - accuracy: 0.7910 - val_loss: 0.4340 - val_accuracy: 0.7812\n",
      "Epoch 15/30\n",
      "8/8 [==============================] - 0s 22ms/step - loss: 0.4061 - accuracy: 0.8006 - val_loss: 0.4192 - val_accuracy: 0.7900\n",
      "Epoch 16/30\n",
      "8/8 [==============================] - 0s 22ms/step - loss: 0.3916 - accuracy: 0.8107 - val_loss: 0.4050 - val_accuracy: 0.7987\n",
      "Epoch 17/30\n",
      "8/8 [==============================] - 0s 21ms/step - loss: 0.3773 - accuracy: 0.8211 - val_loss: 0.3910 - val_accuracy: 0.8138\n",
      "Epoch 18/30\n",
      "8/8 [==============================] - 0s 23ms/step - loss: 0.3630 - accuracy: 0.8328 - val_loss: 0.3769 - val_accuracy: 0.8238\n",
      "Epoch 19/30\n",
      "8/8 [==============================] - 0s 21ms/step - loss: 0.3487 - accuracy: 0.8446 - val_loss: 0.3628 - val_accuracy: 0.8338\n",
      "Epoch 20/30\n",
      "8/8 [==============================] - 0s 22ms/step - loss: 0.3347 - accuracy: 0.8554 - val_loss: 0.3498 - val_accuracy: 0.8450\n",
      "Epoch 21/30\n",
      "8/8 [==============================] - 0s 22ms/step - loss: 0.3212 - accuracy: 0.8651 - val_loss: 0.3375 - val_accuracy: 0.8525\n",
      "Epoch 22/30\n",
      "8/8 [==============================] - 0s 22ms/step - loss: 0.3083 - accuracy: 0.8721 - val_loss: 0.3254 - val_accuracy: 0.8562\n",
      "Epoch 23/30\n",
      "8/8 [==============================] - 0s 21ms/step - loss: 0.2958 - accuracy: 0.8801 - val_loss: 0.3137 - val_accuracy: 0.8600\n",
      "Epoch 24/30\n",
      "8/8 [==============================] - 0s 23ms/step - loss: 0.2838 - accuracy: 0.8863 - val_loss: 0.3028 - val_accuracy: 0.8637\n",
      "Epoch 25/30\n",
      "8/8 [==============================] - 0s 23ms/step - loss: 0.2724 - accuracy: 0.8919 - val_loss: 0.2923 - val_accuracy: 0.8700\n",
      "Epoch 26/30\n",
      "8/8 [==============================] - 0s 22ms/step - loss: 0.2615 - accuracy: 0.8967 - val_loss: 0.2822 - val_accuracy: 0.8775\n",
      "Epoch 27/30\n",
      "8/8 [==============================] - 0s 22ms/step - loss: 0.2511 - accuracy: 0.9010 - val_loss: 0.2726 - val_accuracy: 0.8825\n",
      "Epoch 28/30\n",
      "8/8 [==============================] - 0s 21ms/step - loss: 0.2411 - accuracy: 0.9067 - val_loss: 0.2633 - val_accuracy: 0.8825\n",
      "Epoch 29/30\n",
      "8/8 [==============================] - 0s 22ms/step - loss: 0.2316 - accuracy: 0.9104 - val_loss: 0.2542 - val_accuracy: 0.8863\n",
      "Epoch 30/30\n",
      "8/8 [==============================] - 0s 22ms/step - loss: 0.2224 - accuracy: 0.9135 - val_loss: 0.2455 - val_accuracy: 0.8900\n"
     ]
    }
   ],
   "source": [
    "history = model.fit(cached_train, epochs=30, validation_data=cached_validation)"
   ]
  },
  {
   "cell_type": "code",
   "execution_count": 77,
   "metadata": {},
   "outputs": [
    {
     "name": "stdout",
     "output_type": "stream",
     "text": [
      "4/4 [==============================] - 0s 7ms/step - loss: 0.2226 - accuracy: 0.9080\n"
     ]
    },
    {
     "data": {
      "text/plain": [
       "[0.22256051003932953, 0.9079999923706055]"
      ]
     },
     "execution_count": 77,
     "metadata": {},
     "output_type": "execute_result"
    }
   ],
   "source": [
    "model.evaluate(cached_test)"
   ]
  },
  {
   "cell_type": "code",
   "execution_count": 85,
   "metadata": {},
   "outputs": [
    {
     "data": {
      "text/plain": [
       "array([[0.9927988]], dtype=float32)"
      ]
     },
     "execution_count": 85,
     "metadata": {},
     "output_type": "execute_result"
    }
   ],
   "source": [
    "model.predict([\"I'm depression\"])"
   ]
  },
  {
   "cell_type": "code",
   "execution_count": 87,
   "metadata": {},
   "outputs": [
    {
     "data": {
      "text/plain": [
       "0    8000\n",
       "1    2314\n",
       "Name: labels, dtype: int64"
      ]
     },
     "execution_count": 87,
     "metadata": {},
     "output_type": "execute_result"
    }
   ],
   "source": [
    "label.value_counts()\n",
    "# there 2314 depressed tweets\n",
    "# the word 'depression' show up 2579 times"
   ]
  },
  {
   "cell_type": "code",
   "execution_count": null,
   "metadata": {},
   "outputs": [],
   "source": []
  }
 ],
 "metadata": {
  "interpreter": {
   "hash": "211c49cfd3639eb75d277b333de5bdb19f79cbc55f9d1c8721d186c5d526a3a5"
  },
  "kernelspec": {
   "display_name": "Python 3.7.6 64-bit ('venv': venv)",
   "language": "python",
   "name": "python3"
  },
  "language_info": {
   "codemirror_mode": {
    "name": "ipython",
    "version": 3
   },
   "file_extension": ".py",
   "mimetype": "text/x-python",
   "name": "python",
   "nbconvert_exporter": "python",
   "pygments_lexer": "ipython3",
   "version": "3.7.6"
  },
  "orig_nbformat": 4
 },
 "nbformat": 4,
 "nbformat_minor": 2
}
