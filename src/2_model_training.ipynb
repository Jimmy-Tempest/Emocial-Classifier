{
 "cells": [
  {
   "cell_type": "code",
   "execution_count": 11,
   "metadata": {},
   "outputs": [],
   "source": [
    "import pandas as pd\n",
    "import numpy as np\n",
    "import tensorflow as tf"
   ]
  },
  {
   "cell_type": "code",
   "execution_count": 12,
   "metadata": {},
   "outputs": [],
   "source": [
    "data = pd.read_csv('../data/tweets_with_labels_no_depression.csv')\n",
    "tweets, label = data[\"tweets\"], data[\"labels\"]"
   ]
  },
  {
   "cell_type": "code",
   "execution_count": 13,
   "metadata": {},
   "outputs": [],
   "source": [
    "dataset = tf.data.Dataset.from_tensor_slices((tweets, label))"
   ]
  },
  {
   "cell_type": "code",
   "execution_count": 14,
   "metadata": {},
   "outputs": [],
   "source": [
    "max_tokens = tweets.str.split().str.len().max() + 1"
   ]
  },
  {
   "cell_type": "code",
   "execution_count": 15,
   "metadata": {},
   "outputs": [],
   "source": [
    "tweets_vectorizer = tf.keras.layers.TextVectorization(\n",
    "        max_tokens=max_tokens)\n",
    "\n",
    "tweets_vectorizer.adapt(tweets)\n",
    "\n",
    "model = tf.keras.Sequential([\n",
    "    tweets_vectorizer,\n",
    "    tf.keras.layers.Embedding(max_tokens, 64, mask_zero=True),\n",
    "    tf.keras.layers.GlobalAveragePooling1D(),\n",
    "    tf.keras.layers.Dense(32, activation='relu'),\n",
    "    tf.keras.layers.Dense(1, activation='sigmoid')\n",
    "])\n",
    "\n",
    "model.compile(optimizer='adam', loss='binary_crossentropy', metrics=['accuracy'])\n"
   ]
  },
  {
   "cell_type": "code",
   "execution_count": 16,
   "metadata": {},
   "outputs": [],
   "source": [
    "shuffle_dataset = dataset.shuffle(10_000)\n",
    "\n",
    "train_dataset = shuffle_dataset.take(7_200)\n",
    "validation_dataset = shuffle_dataset.skip(7200).take(800)\n",
    "test_dataset = shuffle_dataset.skip(8000).take(2000)"
   ]
  },
  {
   "cell_type": "code",
   "execution_count": 17,
   "metadata": {},
   "outputs": [],
   "source": [
    "cached_train = train_dataset.shuffle(1024).batch(1024).cache()\n",
    "cached_validation = validation_dataset.batch(1024).cache()\n",
    "cached_test = test_dataset.batch(512).cache()"
   ]
  },
  {
   "cell_type": "code",
   "execution_count": 18,
   "metadata": {},
   "outputs": [
    {
     "name": "stdout",
     "output_type": "stream",
     "text": [
      "Epoch 1/30\n",
      "WARNING:tensorflow:Model was constructed with shape (None, None) for input KerasTensor(type_spec=TensorSpec(shape=(None, None), dtype=tf.string, name='text_vectorization_1_input'), name='text_vectorization_1_input', description=\"created by layer 'text_vectorization_1_input'\"), but it was called on an input with incompatible shape (None,).\n",
      "WARNING:tensorflow:Model was constructed with shape (None, None) for input KerasTensor(type_spec=TensorSpec(shape=(None, None), dtype=tf.string, name='text_vectorization_1_input'), name='text_vectorization_1_input', description=\"created by layer 'text_vectorization_1_input'\"), but it was called on an input with incompatible shape (None,).\n",
      "6/8 [=====================>........] - ETA: 0s - loss: 0.6847 - accuracy: 0.6354WARNING:tensorflow:Model was constructed with shape (None, None) for input KerasTensor(type_spec=TensorSpec(shape=(None, None), dtype=tf.string, name='text_vectorization_1_input'), name='text_vectorization_1_input', description=\"created by layer 'text_vectorization_1_input'\"), but it was called on an input with incompatible shape (None,).\n",
      "8/8 [==============================] - 1s 28ms/step - loss: 0.6820 - accuracy: 0.6542 - val_loss: 0.6509 - val_accuracy: 0.8000\n",
      "Epoch 2/30\n",
      "8/8 [==============================] - 0s 11ms/step - loss: 0.6407 - accuracy: 0.7743 - val_loss: 0.6085 - val_accuracy: 0.8000\n",
      "Epoch 3/30\n",
      "8/8 [==============================] - 0s 11ms/step - loss: 0.6041 - accuracy: 0.7743 - val_loss: 0.5690 - val_accuracy: 0.8000\n",
      "Epoch 4/30\n",
      "8/8 [==============================] - 0s 11ms/step - loss: 0.5712 - accuracy: 0.7743 - val_loss: 0.5337 - val_accuracy: 0.8000\n",
      "Epoch 5/30\n",
      "8/8 [==============================] - 0s 11ms/step - loss: 0.5443 - accuracy: 0.7743 - val_loss: 0.5065 - val_accuracy: 0.8000\n",
      "Epoch 6/30\n",
      "8/8 [==============================] - 0s 11ms/step - loss: 0.5265 - accuracy: 0.7743 - val_loss: 0.4894 - val_accuracy: 0.8000\n",
      "Epoch 7/30\n",
      "8/8 [==============================] - 0s 11ms/step - loss: 0.5170 - accuracy: 0.7743 - val_loss: 0.4800 - val_accuracy: 0.8000\n",
      "Epoch 8/30\n",
      "8/8 [==============================] - 0s 11ms/step - loss: 0.5114 - accuracy: 0.7746 - val_loss: 0.4740 - val_accuracy: 0.8000\n",
      "Epoch 9/30\n",
      "8/8 [==============================] - 0s 11ms/step - loss: 0.5062 - accuracy: 0.7746 - val_loss: 0.4691 - val_accuracy: 0.8000\n",
      "Epoch 10/30\n",
      "8/8 [==============================] - 0s 10ms/step - loss: 0.5005 - accuracy: 0.7746 - val_loss: 0.4645 - val_accuracy: 0.8000\n",
      "Epoch 11/30\n",
      "8/8 [==============================] - 0s 11ms/step - loss: 0.4945 - accuracy: 0.7746 - val_loss: 0.4594 - val_accuracy: 0.8000\n",
      "Epoch 12/30\n",
      "8/8 [==============================] - 0s 10ms/step - loss: 0.4881 - accuracy: 0.7747 - val_loss: 0.4535 - val_accuracy: 0.8000\n",
      "Epoch 13/30\n",
      "8/8 [==============================] - 0s 11ms/step - loss: 0.4810 - accuracy: 0.7758 - val_loss: 0.4468 - val_accuracy: 0.8050\n",
      "Epoch 14/30\n",
      "8/8 [==============================] - 0s 11ms/step - loss: 0.4731 - accuracy: 0.7775 - val_loss: 0.4396 - val_accuracy: 0.8100\n",
      "Epoch 15/30\n",
      "8/8 [==============================] - 0s 11ms/step - loss: 0.4647 - accuracy: 0.7810 - val_loss: 0.4320 - val_accuracy: 0.8125\n",
      "Epoch 16/30\n",
      "8/8 [==============================] - 0s 11ms/step - loss: 0.4563 - accuracy: 0.7853 - val_loss: 0.4246 - val_accuracy: 0.8163\n",
      "Epoch 17/30\n",
      "8/8 [==============================] - 0s 10ms/step - loss: 0.4482 - accuracy: 0.7919 - val_loss: 0.4179 - val_accuracy: 0.8238\n",
      "Epoch 18/30\n",
      "8/8 [==============================] - 0s 11ms/step - loss: 0.4407 - accuracy: 0.7979 - val_loss: 0.4118 - val_accuracy: 0.8250\n",
      "Epoch 19/30\n",
      "8/8 [==============================] - 0s 11ms/step - loss: 0.4340 - accuracy: 0.8025 - val_loss: 0.4063 - val_accuracy: 0.8288\n",
      "Epoch 20/30\n",
      "8/8 [==============================] - 0s 11ms/step - loss: 0.4281 - accuracy: 0.8069 - val_loss: 0.4016 - val_accuracy: 0.8338\n",
      "Epoch 21/30\n",
      "8/8 [==============================] - 0s 11ms/step - loss: 0.4229 - accuracy: 0.8089 - val_loss: 0.3975 - val_accuracy: 0.8313\n",
      "Epoch 22/30\n",
      "8/8 [==============================] - 0s 11ms/step - loss: 0.4183 - accuracy: 0.8100 - val_loss: 0.3937 - val_accuracy: 0.8325\n",
      "Epoch 23/30\n",
      "8/8 [==============================] - 0s 11ms/step - loss: 0.4142 - accuracy: 0.8124 - val_loss: 0.3904 - val_accuracy: 0.8325\n",
      "Epoch 24/30\n",
      "8/8 [==============================] - 0s 11ms/step - loss: 0.4106 - accuracy: 0.8136 - val_loss: 0.3876 - val_accuracy: 0.8300\n",
      "Epoch 25/30\n",
      "8/8 [==============================] - 0s 12ms/step - loss: 0.4075 - accuracy: 0.8161 - val_loss: 0.3850 - val_accuracy: 0.8300\n",
      "Epoch 26/30\n",
      "8/8 [==============================] - 0s 12ms/step - loss: 0.4047 - accuracy: 0.8190 - val_loss: 0.3826 - val_accuracy: 0.8288\n",
      "Epoch 27/30\n",
      "8/8 [==============================] - 0s 11ms/step - loss: 0.4023 - accuracy: 0.8203 - val_loss: 0.3805 - val_accuracy: 0.8325\n",
      "Epoch 28/30\n",
      "8/8 [==============================] - 0s 11ms/step - loss: 0.4002 - accuracy: 0.8214 - val_loss: 0.3784 - val_accuracy: 0.8313\n",
      "Epoch 29/30\n",
      "8/8 [==============================] - 0s 11ms/step - loss: 0.3981 - accuracy: 0.8219 - val_loss: 0.3764 - val_accuracy: 0.8313\n",
      "Epoch 30/30\n",
      "8/8 [==============================] - 0s 11ms/step - loss: 0.3962 - accuracy: 0.8236 - val_loss: 0.3745 - val_accuracy: 0.8313\n"
     ]
    }
   ],
   "source": [
    "history = model.fit(cached_train, epochs=30, validation_data=cached_validation)"
   ]
  },
  {
   "cell_type": "code",
   "execution_count": 19,
   "metadata": {},
   "outputs": [
    {
     "name": "stdout",
     "output_type": "stream",
     "text": [
      "4/4 [==============================] - 0s 5ms/step - loss: 0.3860 - accuracy: 0.8260\n"
     ]
    },
    {
     "data": {
      "text/plain": [
       "[0.38600799441337585, 0.8259999752044678]"
      ]
     },
     "execution_count": 19,
     "metadata": {},
     "output_type": "execute_result"
    }
   ],
   "source": [
    "model.evaluate(cached_test)"
   ]
  },
  {
   "cell_type": "code",
   "execution_count": 33,
   "metadata": {},
   "outputs": [
    {
     "data": {
      "text/plain": [
       "array([[0.6541928]], dtype=float32)"
      ]
     },
     "execution_count": 33,
     "metadata": {},
     "output_type": "execute_result"
    }
   ],
   "source": [
    "model.predict([\"I don't like Dream from minecraft manhunt\"])"
   ]
  },
  {
   "cell_type": "code",
   "execution_count": 15,
   "metadata": {},
   "outputs": [
    {
     "data": {
      "text/plain": [
       "0    8000\n",
       "1    2314\n",
       "Name: labels, dtype: int64"
      ]
     },
     "execution_count": 15,
     "metadata": {},
     "output_type": "execute_result"
    }
   ],
   "source": [
    "label.value_counts()\n",
    "# there 2314 depressed tweets\n",
    "# the word 'depression' show up 2579 times"
   ]
  },
  {
   "cell_type": "code",
   "execution_count": null,
   "metadata": {},
   "outputs": [],
   "source": []
  }
 ],
 "metadata": {
  "interpreter": {
   "hash": "211c49cfd3639eb75d277b333de5bdb19f79cbc55f9d1c8721d186c5d526a3a5"
  },
  "kernelspec": {
   "display_name": "Python 3.7.6 64-bit ('venv': venv)",
   "language": "python",
   "name": "python3"
  },
  "language_info": {
   "codemirror_mode": {
    "name": "ipython",
    "version": 3
   },
   "file_extension": ".py",
   "mimetype": "text/x-python",
   "name": "python",
   "nbconvert_exporter": "python",
   "pygments_lexer": "ipython3",
   "version": "3.8.5"
  },
  "orig_nbformat": 4
 },
 "nbformat": 4,
 "nbformat_minor": 2
}
